{
 "cells": [
  {
   "cell_type": "code",
   "execution_count": null,
   "id": "38d8a46d",
   "metadata": {
    "scrolled": true
   },
   "outputs": [],
   "source": [
    "# print((df1.iloc[:, 152]).value_counts())\n",
    "\n",
    "# # clearing the variables to free my RAM space\n",
    "# del df1"
   ]
  },
  {
   "cell_type": "code",
   "execution_count": null,
   "id": "ef3ce4d7",
   "metadata": {
    "scrolled": true
   },
   "outputs": [],
   "source": [
    "# Splitting the big csv file in multiple csv files according each instance\n",
    "\n",
    "import pandas as pd\n",
    "\n",
    "# loading data\n",
    "datasetDirPath = \"../../../../data/ML/\"\n",
    "filePath = datasetDirPath + \"dataset0.csv\"\n",
    "df0 = pd.read_csv(filePath)\n",
    "\n",
    "# getting all changeOverCost values\n",
    "allChangeOverCosts = (df0[\"changeover_costs\"]).unique()\n",
    "\n",
    "for index, changeOverCosts in enumerate(allChangeOverCosts):\n",
    "    df_i = df0.loc[df0['changeover_costs'] == changeOverCosts]\n",
    "    df_i.to_csv(datasetDirPath + str(index) + \".csv\", index=False)\n",
    "\n",
    "# # clearing the variables to free my RAM space\n",
    "# del df0"
   ]
  },
  {
   "cell_type": "code",
   "execution_count": 21,
   "id": "47a03df0",
   "metadata": {},
   "outputs": [],
   "source": [
    "# adding instance index to pandas df\n",
    "\n",
    "import pandas as pd\n",
    "import os\n",
    "\n",
    "datasetDirPath = \"../../../../data/ML/sets/\"\n",
    "listFiles = os.listdir(datasetDirPath)\n",
    "\n",
    "for file in listFiles:\n",
    "    filePath = datasetDirPath + file\n",
    "    instanceIndex = file.replace(\".csv\", \"\")\n",
    "    df = pd.read_csv(filePath)\n",
    "    df[\"instance_file_root_name\"] = instanceIndex\n",
    "    # df = df.iloc[:, 1:]\n",
    "    df.to_csv(filePath, index=False)\n",
    "    # print(df.head())\n",
    "\n"
   ]
  },
  {
   "cell_type": "code",
   "execution_count": 30,
   "id": "80b2d200",
   "metadata": {},
   "outputs": [
    {
     "name": "stdout",
     "output_type": "stream",
     "text": [
      "114203\n",
      "114203\n"
     ]
    }
   ],
   "source": [
    "# \n",
    "\n",
    "import pandas as pd\n",
    "\n",
    "datasetDirPath = \"../../../../data/ML/\"\n",
    "filePath = datasetDirPath + \"1.csv\"\n",
    "\n",
    "df = pd.read_csv(filePath)\n",
    "print(len(df))\n",
    "# df = df.drop_duplicates()"
   ]
  },
  {
   "cell_type": "code",
   "execution_count": null,
   "id": "926c54ad",
   "metadata": {},
   "outputs": [],
   "source": []
  },
  {
   "cell_type": "code",
   "execution_count": null,
   "id": "562a794b",
   "metadata": {},
   "outputs": [],
   "source": []
  }
 ],
 "metadata": {
  "kernelspec": {
   "display_name": "Python 3",
   "language": "python",
   "name": "python3"
  },
  "language_info": {
   "codemirror_mode": {
    "name": "ipython",
    "version": 3
   },
   "file_extension": ".py",
   "mimetype": "text/x-python",
   "name": "python",
   "nbconvert_exporter": "python",
   "pygments_lexer": "ipython3",
   "version": "3.6.9"
  }
 },
 "nbformat": 4,
 "nbformat_minor": 5
}
